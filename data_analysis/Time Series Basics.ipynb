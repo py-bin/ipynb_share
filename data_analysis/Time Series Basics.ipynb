{
 "cells": [
  {
   "cell_type": "markdown",
   "metadata": {},
   "source": [
    "# 11.2 Time Series Basics（时间序列基础）\n",
    "\n",
    "在pandas中，一个基本的时间序列对象，是一个用时间戳作为索引的Series，在pandas外部的话，通常是用python 字符串或datetime对象来表示的："
   ]
  },
  {
   "cell_type": "code",
   "execution_count": 1,
   "metadata": {
    "collapsed": true
   },
   "outputs": [],
   "source": [
    "import pandas as pd\n",
    "import numpy as np\n",
    "from datetime import datetime"
   ]
  },
  {
   "cell_type": "code",
   "execution_count": 2,
   "metadata": {
    "collapsed": true
   },
   "outputs": [],
   "source": [
    "dates = [datetime(2011, 1, 2), datetime(2011, 1, 5),\n",
    "         datetime(2011, 1, 7), datetime(2011, 1, 8), \n",
    "         datetime(2011, 1, 10), datetime(2011, 1, 12)]"
   ]
  },
  {
   "cell_type": "code",
   "execution_count": 3,
   "metadata": {},
   "outputs": [
    {
     "data": {
      "text/plain": [
       "2011-01-02   -1.516355\n",
       "2011-01-05   -1.312124\n",
       "2011-01-07    0.634266\n",
       "2011-01-08   -2.084913\n",
       "2011-01-10    0.190022\n",
       "2011-01-12   -0.422192\n",
       "dtype: float64"
      ]
     },
     "execution_count": 3,
     "metadata": {},
     "output_type": "execute_result"
    }
   ],
   "source": [
    "ts = pd.Series(np.random.randn(6), index=dates)\n",
    "ts"
   ]
  },
  {
   "cell_type": "markdown",
   "metadata": {},
   "source": [
    "上面的转化原理是，datetime对象被放进了DatetimeIndex:"
   ]
  },
  {
   "cell_type": "code",
   "execution_count": 4,
   "metadata": {},
   "outputs": [
    {
     "data": {
      "text/plain": [
       "DatetimeIndex(['2011-01-02', '2011-01-05', '2011-01-07', '2011-01-08',\n",
       "               '2011-01-10', '2011-01-12'],\n",
       "              dtype='datetime64[ns]', freq=None)"
      ]
     },
     "execution_count": 4,
     "metadata": {},
     "output_type": "execute_result"
    }
   ],
   "source": [
    "ts.index"
   ]
  },
  {
   "cell_type": "markdown",
   "metadata": {},
   "source": [
    "像其他的Series一行，数值原色会自动按时间序列索引进行对齐："
   ]
  },
  {
   "cell_type": "code",
   "execution_count": 5,
   "metadata": {},
   "outputs": [
    {
     "data": {
      "text/plain": [
       "2011-01-02   -1.516355\n",
       "2011-01-07    0.634266\n",
       "2011-01-10    0.190022\n",
       "dtype: float64"
      ]
     },
     "execution_count": 5,
     "metadata": {},
     "output_type": "execute_result"
    }
   ],
   "source": [
    "ts[::2]"
   ]
  },
  {
   "cell_type": "code",
   "execution_count": 6,
   "metadata": {},
   "outputs": [
    {
     "data": {
      "text/plain": [
       "2011-01-02   -3.032709\n",
       "2011-01-05         NaN\n",
       "2011-01-07    1.268533\n",
       "2011-01-08         NaN\n",
       "2011-01-10    0.380044\n",
       "2011-01-12         NaN\n",
       "dtype: float64"
      ]
     },
     "execution_count": 6,
     "metadata": {},
     "output_type": "execute_result"
    }
   ],
   "source": [
    "ts + ts[::2]"
   ]
  },
  {
   "cell_type": "markdown",
   "metadata": {},
   "source": [
    "ts[::2]会在ts中，每隔两个元素选一个元素。\n",
    "\n",
    "pandas中的时间戳，是按numpy中的datetime64数据类型进行保存的，可以精确到纳秒的级别，\n",
    "\n",
    "DatetimeIndex的标量是pandas的Timestamp对象："
   ]
  },
  {
   "cell_type": "code",
   "execution_count": 7,
   "metadata": {},
   "outputs": [
    {
     "data": {
      "text/plain": [
       "Timestamp('2011-01-02 00:00:00')"
      ]
     },
     "execution_count": 7,
     "metadata": {},
     "output_type": "execute_result"
    }
   ],
   "source": [
    "stamp = ts.index[0]\n",
    "stamp"
   ]
  },
  {
   "cell_type": "markdown",
   "metadata": {},
   "source": [
    "Timestamp可以在任何地方用datetime对象进行替换。\n",
    "\n",
    "# 1 Indexing, Selection, Subsetting（索引，选择，取子集）\n",
    "\n",
    "当我们基于标签进行索引和选择时，时间序列就像是pandas.Series："
   ]
  },
  {
   "cell_type": "code",
   "execution_count": 8,
   "metadata": {},
   "outputs": [
    {
     "data": {
      "text/plain": [
       "2011-01-02   -1.516355\n",
       "2011-01-05   -1.312124\n",
       "2011-01-07    0.634266\n",
       "2011-01-08   -2.084913\n",
       "2011-01-10    0.190022\n",
       "2011-01-12   -0.422192\n",
       "dtype: float64"
      ]
     },
     "execution_count": 8,
     "metadata": {},
     "output_type": "execute_result"
    }
   ],
   "source": [
    "ts"
   ]
  },
  {
   "cell_type": "code",
   "execution_count": 9,
   "metadata": {
    "collapsed": true
   },
   "outputs": [],
   "source": [
    "stamp = ts.index[2]"
   ]
  },
  {
   "cell_type": "code",
   "execution_count": 10,
   "metadata": {},
   "outputs": [
    {
     "data": {
      "text/plain": [
       "0.63426639357601478"
      ]
     },
     "execution_count": 10,
     "metadata": {},
     "output_type": "execute_result"
    }
   ],
   "source": [
    "ts[stamp]"
   ]
  },
  {
   "cell_type": "markdown",
   "metadata": {},
   "source": [
    "为了方便，我们可以直接传入一个字符串用来表示日期："
   ]
  },
  {
   "cell_type": "code",
   "execution_count": 11,
   "metadata": {},
   "outputs": [
    {
     "data": {
      "text/plain": [
       "0.190022244081339"
      ]
     },
     "execution_count": 11,
     "metadata": {},
     "output_type": "execute_result"
    }
   ],
   "source": [
    "ts['1/10/2011']"
   ]
  },
  {
   "cell_type": "code",
   "execution_count": 12,
   "metadata": {},
   "outputs": [
    {
     "data": {
      "text/plain": [
       "0.190022244081339"
      ]
     },
     "execution_count": 12,
     "metadata": {},
     "output_type": "execute_result"
    }
   ],
   "source": [
    "ts['20110110']"
   ]
  },
  {
   "cell_type": "markdown",
   "metadata": {},
   "source": [
    "对于比较长的时间序列，我们可以直接传入一年或一年一个月，来进行数据选取："
   ]
  },
  {
   "cell_type": "code",
   "execution_count": 13,
   "metadata": {},
   "outputs": [
    {
     "data": {
      "text/plain": [
       "2000-01-01   -0.136372\n",
       "2000-01-02   -1.224098\n",
       "2000-01-03   -0.483691\n",
       "2000-01-04   -0.413888\n",
       "2000-01-05   -0.879009\n",
       "2000-01-06    0.095670\n",
       "2000-01-07   -0.641924\n",
       "2000-01-08    0.854849\n",
       "2000-01-09    1.176310\n",
       "2000-01-10    0.822993\n",
       "2000-01-11    1.885742\n",
       "2000-01-12   -0.511405\n",
       "2000-01-13    0.031318\n",
       "2000-01-14    0.565075\n",
       "2000-01-15    0.501018\n",
       "2000-01-16   -1.096367\n",
       "2000-01-17    0.290809\n",
       "2000-01-18    0.035377\n",
       "2000-01-19   -1.125671\n",
       "2000-01-20    1.523958\n",
       "2000-01-21    1.066099\n",
       "2000-01-22    2.035655\n",
       "2000-01-23    1.151862\n",
       "2000-01-24   -1.204157\n",
       "2000-01-25    0.770115\n",
       "2000-01-26   -1.956111\n",
       "2000-01-27   -0.047667\n",
       "2000-01-28   -0.778248\n",
       "2000-01-29    0.388646\n",
       "2000-01-30   -1.226905\n",
       "                ...   \n",
       "2002-08-28   -0.156880\n",
       "2002-08-29    0.092827\n",
       "2002-08-30   -0.360281\n",
       "2002-08-31   -0.524016\n",
       "2002-09-01   -0.323111\n",
       "2002-09-02    0.324747\n",
       "2002-09-03   -0.090382\n",
       "2002-09-04    0.573197\n",
       "2002-09-05   -0.506839\n",
       "2002-09-06   -0.516092\n",
       "2002-09-07    0.382998\n",
       "2002-09-08   -0.315170\n",
       "2002-09-09   -0.622550\n",
       "2002-09-10    0.238017\n",
       "2002-09-11   -1.838017\n",
       "2002-09-12   -0.399529\n",
       "2002-09-13    0.586992\n",
       "2002-09-14    0.824444\n",
       "2002-09-15    0.193404\n",
       "2002-09-16    0.767761\n",
       "2002-09-17    0.622269\n",
       "2002-09-18    0.404794\n",
       "2002-09-19    1.040782\n",
       "2002-09-20   -0.337305\n",
       "2002-09-21   -0.158119\n",
       "2002-09-22    0.623240\n",
       "2002-09-23   -0.470611\n",
       "2002-09-24    0.202847\n",
       "2002-09-25    0.529016\n",
       "2002-09-26    0.066984\n",
       "Freq: D, Length: 1000, dtype: float64"
      ]
     },
     "execution_count": 13,
     "metadata": {},
     "output_type": "execute_result"
    }
   ],
   "source": [
    "longer_ts = pd.Series(np.random.randn(1000),\n",
    "                      index=pd.date_range('1/1/2000', periods=1000))\n",
    "longer_ts"
   ]
  },
  {
   "cell_type": "code",
   "execution_count": 14,
   "metadata": {},
   "outputs": [
    {
     "data": {
      "text/plain": [
       "2001-01-01   -0.689413\n",
       "2001-01-02   -0.129989\n",
       "2001-01-03    0.200948\n",
       "2001-01-04   -1.336157\n",
       "2001-01-05    0.668905\n",
       "2001-01-06   -0.045583\n",
       "2001-01-07    1.522334\n",
       "2001-01-08    1.152726\n",
       "2001-01-09   -0.285554\n",
       "2001-01-10    0.891631\n",
       "2001-01-11    1.474867\n",
       "2001-01-12    0.785286\n",
       "2001-01-13   -1.059099\n",
       "2001-01-14    0.684889\n",
       "2001-01-15    0.564896\n",
       "2001-01-16   -0.278859\n",
       "2001-01-17    0.206892\n",
       "2001-01-18    0.335905\n",
       "2001-01-19    2.227370\n",
       "2001-01-20    1.485317\n",
       "2001-01-21   -0.696520\n",
       "2001-01-22   -1.065130\n",
       "2001-01-23   -1.212273\n",
       "2001-01-24   -0.834923\n",
       "2001-01-25    1.073209\n",
       "2001-01-26    0.477623\n",
       "2001-01-27   -0.390275\n",
       "2001-01-28   -1.414097\n",
       "2001-01-29   -0.684405\n",
       "2001-01-30   -0.709195\n",
       "                ...   \n",
       "2001-12-02   -0.430722\n",
       "2001-12-03   -1.446557\n",
       "2001-12-04   -0.433168\n",
       "2001-12-05   -1.473646\n",
       "2001-12-06   -0.240266\n",
       "2001-12-07   -1.587177\n",
       "2001-12-08    2.035679\n",
       "2001-12-09    0.657873\n",
       "2001-12-10    1.849066\n",
       "2001-12-11    1.168744\n",
       "2001-12-12    0.386542\n",
       "2001-12-13   -0.780351\n",
       "2001-12-14    1.236980\n",
       "2001-12-15    1.796924\n",
       "2001-12-16    0.594109\n",
       "2001-12-17   -0.737845\n",
       "2001-12-18    0.293607\n",
       "2001-12-19   -1.110087\n",
       "2001-12-20    1.129924\n",
       "2001-12-21    0.183430\n",
       "2001-12-22   -0.414085\n",
       "2001-12-23   -0.445985\n",
       "2001-12-24   -0.045541\n",
       "2001-12-25    1.528132\n",
       "2001-12-26   -2.081918\n",
       "2001-12-27   -0.569845\n",
       "2001-12-28    0.450987\n",
       "2001-12-29    2.768830\n",
       "2001-12-30   -0.067230\n",
       "2001-12-31    0.014695\n",
       "Freq: D, Length: 365, dtype: float64"
      ]
     },
     "execution_count": 14,
     "metadata": {},
     "output_type": "execute_result"
    }
   ],
   "source": [
    "longer_ts['2001']"
   ]
  },
  {
   "cell_type": "markdown",
   "metadata": {},
   "source": [
    "这里，字符串'2001'就直接被解析为一年，然后选中这个时期的数据。我们也可以指定月份："
   ]
  },
  {
   "cell_type": "code",
   "execution_count": 15,
   "metadata": {},
   "outputs": [
    {
     "data": {
      "text/plain": [
       "2001-05-01   -1.047694\n",
       "2001-05-02   -2.074168\n",
       "2001-05-03   -1.374739\n",
       "2001-05-04   -1.875479\n",
       "2001-05-05   -0.629041\n",
       "2001-05-06    0.239575\n",
       "2001-05-07   -0.074583\n",
       "2001-05-08   -0.332051\n",
       "2001-05-09    0.352574\n",
       "2001-05-10   -0.729554\n",
       "2001-05-11   -1.260451\n",
       "2001-05-12    2.386021\n",
       "2001-05-13    0.507414\n",
       "2001-05-14    2.174966\n",
       "2001-05-15   -0.160949\n",
       "2001-05-16   -0.535947\n",
       "2001-05-17    0.272017\n",
       "2001-05-18    0.933476\n",
       "2001-05-19   -0.023010\n",
       "2001-05-20   -0.827175\n",
       "2001-05-21   -0.591335\n",
       "2001-05-22    0.861078\n",
       "2001-05-23    0.250064\n",
       "2001-05-24   -0.344444\n",
       "2001-05-25    0.274510\n",
       "2001-05-26   -0.258019\n",
       "2001-05-27   -1.322779\n",
       "2001-05-28    0.376861\n",
       "2001-05-29    0.037362\n",
       "2001-05-30   -0.417679\n",
       "2001-05-31   -1.521938\n",
       "Freq: D, dtype: float64"
      ]
     },
     "execution_count": 15,
     "metadata": {},
     "output_type": "execute_result"
    }
   ],
   "source": [
    "longer_ts['2001-05']"
   ]
  },
  {
   "cell_type": "markdown",
   "metadata": {},
   "source": [
    "利用datetime进行切片（slicing）也没问题："
   ]
  },
  {
   "cell_type": "code",
   "execution_count": 16,
   "metadata": {},
   "outputs": [
    {
     "data": {
      "text/plain": [
       "0.63426639357601478"
      ]
     },
     "execution_count": 16,
     "metadata": {},
     "output_type": "execute_result"
    }
   ],
   "source": [
    "ts[datetime(2011, 1, 7)]"
   ]
  },
  {
   "cell_type": "markdown",
   "metadata": {},
   "source": [
    "因为大部分时间序列是按年代时间顺序来排列的，我们可以用时间戳来进行切片，选中一段范围内的时间："
   ]
  },
  {
   "cell_type": "code",
   "execution_count": 17,
   "metadata": {},
   "outputs": [
    {
     "data": {
      "text/plain": [
       "2011-01-02   -1.516355\n",
       "2011-01-05   -1.312124\n",
       "2011-01-07    0.634266\n",
       "2011-01-08   -2.084913\n",
       "2011-01-10    0.190022\n",
       "2011-01-12   -0.422192\n",
       "dtype: float64"
      ]
     },
     "execution_count": 17,
     "metadata": {},
     "output_type": "execute_result"
    }
   ],
   "source": [
    "ts"
   ]
  },
  {
   "cell_type": "code",
   "execution_count": 18,
   "metadata": {
    "scrolled": true
   },
   "outputs": [
    {
     "data": {
      "text/plain": [
       "2011-01-07    0.634266\n",
       "2011-01-08   -2.084913\n",
       "2011-01-10    0.190022\n",
       "dtype: float64"
      ]
     },
     "execution_count": 18,
     "metadata": {},
     "output_type": "execute_result"
    }
   ],
   "source": [
    "ts['1/6/2011':'1/11/2011']"
   ]
  },
  {
   "cell_type": "markdown",
   "metadata": {},
   "source": [
    "记住，这种方式的切片得到的只是原来数据的一个视图，如果我们在切片的结果上进行更改的的，原来的数据也会变化。"
   ]
  },
  {
   "cell_type": "markdown",
   "metadata": {},
   "source": [
    "所有这些都适用于DataFrame，我们对行进行索引："
   ]
  },
  {
   "cell_type": "code",
   "execution_count": 19,
   "metadata": {
    "collapsed": true
   },
   "outputs": [],
   "source": [
    "dates = pd.date_range('1/1/2000', periods=100, freq='W-WED')"
   ]
  },
  {
   "cell_type": "code",
   "execution_count": 20,
   "metadata": {
    "collapsed": true
   },
   "outputs": [],
   "source": [
    "long_df = pd.DataFrame(np.random.randn(100, 4),\n",
    "                       index=dates,\n",
    "                       columns=['Colorado', 'Texas',\n",
    "                                'New York', 'Ohio'])"
   ]
  },
  {
   "cell_type": "code",
   "execution_count": 21,
   "metadata": {},
   "outputs": [
    {
     "data": {
      "text/html": [
       "<div>\n",
       "<style>\n",
       "    .dataframe thead tr:only-child th {\n",
       "        text-align: right;\n",
       "    }\n",
       "\n",
       "    .dataframe thead th {\n",
       "        text-align: left;\n",
       "    }\n",
       "\n",
       "    .dataframe tbody tr th {\n",
       "        vertical-align: top;\n",
       "    }\n",
       "</style>\n",
       "<table border=\"1\" class=\"dataframe\">\n",
       "  <thead>\n",
       "    <tr style=\"text-align: right;\">\n",
       "      <th></th>\n",
       "      <th>Colorado</th>\n",
       "      <th>Texas</th>\n",
       "      <th>New York</th>\n",
       "      <th>Ohio</th>\n",
       "    </tr>\n",
       "  </thead>\n",
       "  <tbody>\n",
       "    <tr>\n",
       "      <th>2001-05-02</th>\n",
       "      <td>-0.546985</td>\n",
       "      <td>-0.542177</td>\n",
       "      <td>0.850227</td>\n",
       "      <td>0.416314</td>\n",
       "    </tr>\n",
       "    <tr>\n",
       "      <th>2001-05-09</th>\n",
       "      <td>-0.555638</td>\n",
       "      <td>-0.225737</td>\n",
       "      <td>-1.446422</td>\n",
       "      <td>-0.813269</td>\n",
       "    </tr>\n",
       "    <tr>\n",
       "      <th>2001-05-16</th>\n",
       "      <td>0.630600</td>\n",
       "      <td>-0.811702</td>\n",
       "      <td>-0.264234</td>\n",
       "      <td>0.480644</td>\n",
       "    </tr>\n",
       "    <tr>\n",
       "      <th>2001-05-23</th>\n",
       "      <td>-0.200210</td>\n",
       "      <td>0.575624</td>\n",
       "      <td>1.420262</td>\n",
       "      <td>-0.367813</td>\n",
       "    </tr>\n",
       "    <tr>\n",
       "      <th>2001-05-30</th>\n",
       "      <td>1.342999</td>\n",
       "      <td>0.076870</td>\n",
       "      <td>-0.302700</td>\n",
       "      <td>-0.695746</td>\n",
       "    </tr>\n",
       "  </tbody>\n",
       "</table>\n",
       "</div>"
      ],
      "text/plain": [
       "            Colorado     Texas  New York      Ohio\n",
       "2001-05-02 -0.546985 -0.542177  0.850227  0.416314\n",
       "2001-05-09 -0.555638 -0.225737 -1.446422 -0.813269\n",
       "2001-05-16  0.630600 -0.811702 -0.264234  0.480644\n",
       "2001-05-23 -0.200210  0.575624  1.420262 -0.367813\n",
       "2001-05-30  1.342999  0.076870 -0.302700 -0.695746"
      ]
     },
     "execution_count": 21,
     "metadata": {},
     "output_type": "execute_result"
    }
   ],
   "source": [
    "long_df.loc['5-2001']"
   ]
  },
  {
   "cell_type": "markdown",
   "metadata": {},
   "source": [
    "# 2 Time Series with Duplicate Indices（重复索引的时间序列）\n",
    "\n",
    "在某些数据中，可能会遇到多个数据在同一时间戳下的情况："
   ]
  },
  {
   "cell_type": "code",
   "execution_count": 22,
   "metadata": {
    "collapsed": true
   },
   "outputs": [],
   "source": [
    "dates = pd.DatetimeIndex(['1/1/2000', '1/2/2000', '1/2/2000', \n",
    "                          '1/2/2000', '1/3/2000'])"
   ]
  },
  {
   "cell_type": "code",
   "execution_count": 23,
   "metadata": {},
   "outputs": [
    {
     "data": {
      "text/plain": [
       "2000-01-01    0\n",
       "2000-01-02    1\n",
       "2000-01-02    2\n",
       "2000-01-02    3\n",
       "2000-01-03    4\n",
       "dtype: int32"
      ]
     },
     "execution_count": 23,
     "metadata": {},
     "output_type": "execute_result"
    }
   ],
   "source": [
    "dup_ts = pd.Series(np.arange(5), index=dates)\n",
    "dup_ts"
   ]
  },
  {
   "cell_type": "markdown",
   "metadata": {},
   "source": [
    "我们通过is_unique属性来查看index是否是唯一值："
   ]
  },
  {
   "cell_type": "code",
   "execution_count": 24,
   "metadata": {},
   "outputs": [
    {
     "data": {
      "text/plain": [
       "False"
      ]
     },
     "execution_count": 24,
     "metadata": {},
     "output_type": "execute_result"
    }
   ],
   "source": [
    "dup_ts.index.is_unique"
   ]
  },
  {
   "cell_type": "markdown",
   "metadata": {},
   "source": [
    "对这个时间序列取索引的的话， 要么得到标量，要么得到切片，这取决于时间戳是否是重复的："
   ]
  },
  {
   "cell_type": "code",
   "execution_count": 25,
   "metadata": {},
   "outputs": [
    {
     "data": {
      "text/plain": [
       "4"
      ]
     },
     "execution_count": 25,
     "metadata": {},
     "output_type": "execute_result"
    }
   ],
   "source": [
    "dup_ts['1/3/2000'] # not duplicated"
   ]
  },
  {
   "cell_type": "code",
   "execution_count": 26,
   "metadata": {},
   "outputs": [
    {
     "data": {
      "text/plain": [
       "2000-01-02    1\n",
       "2000-01-02    2\n",
       "2000-01-02    3\n",
       "dtype: int32"
      ]
     },
     "execution_count": 26,
     "metadata": {},
     "output_type": "execute_result"
    }
   ],
   "source": [
    "dup_ts['1/2/2000'] # duplicated"
   ]
  },
  {
   "cell_type": "markdown",
   "metadata": {},
   "source": [
    "假设我们想要聚合那些有重复时间戳的数据，一种方法是用groupby，设定level=0："
   ]
  },
  {
   "cell_type": "code",
   "execution_count": 27,
   "metadata": {},
   "outputs": [
    {
     "data": {
      "text/plain": [
       "2000-01-01    0\n",
       "2000-01-02    2\n",
       "2000-01-03    4\n",
       "dtype: int32"
      ]
     },
     "execution_count": 27,
     "metadata": {},
     "output_type": "execute_result"
    }
   ],
   "source": [
    "grouped = dup_ts.groupby(level=0)\n",
    "grouped.mean()"
   ]
  },
  {
   "cell_type": "code",
   "execution_count": 28,
   "metadata": {
    "scrolled": false
   },
   "outputs": [
    {
     "data": {
      "text/plain": [
       "2000-01-01    1\n",
       "2000-01-02    3\n",
       "2000-01-03    1\n",
       "dtype: int64"
      ]
     },
     "execution_count": 28,
     "metadata": {},
     "output_type": "execute_result"
    }
   ],
   "source": [
    "grouped.count()"
   ]
  },
  {
   "cell_type": "markdown",
   "metadata": {},
   "source": [
    "### 附加内容（简略版）"
   ]
  },
  {
   "cell_type": "markdown",
   "metadata": {},
   "source": [
    "日期偏移，DateOffset"
   ]
  },
  {
   "cell_type": "code",
   "execution_count": 29,
   "metadata": {},
   "outputs": [
    {
     "data": {
      "text/plain": [
       "DatetimeIndex(['2000-01-01', '2000-01-02', '2000-01-02', '2000-01-02',\n",
       "               '2000-01-03'],\n",
       "              dtype='datetime64[ns]', freq=None)"
      ]
     },
     "execution_count": 29,
     "metadata": {},
     "output_type": "execute_result"
    }
   ],
   "source": [
    "from pandas.tseries.offsets import DateOffset,Day\n",
    "dates"
   ]
  },
  {
   "cell_type": "code",
   "execution_count": 30,
   "metadata": {},
   "outputs": [
    {
     "data": {
      "text/plain": [
       "DatetimeIndex(['2000-02-01', '2000-02-02', '2000-02-02', '2000-02-02',\n",
       "               '2000-02-03'],\n",
       "              dtype='datetime64[ns]', freq=None)"
      ]
     },
     "execution_count": 30,
     "metadata": {},
     "output_type": "execute_result"
    }
   ],
   "source": [
    "dates + DateOffset(months = 1)"
   ]
  },
  {
   "cell_type": "code",
   "execution_count": 31,
   "metadata": {},
   "outputs": [
    {
     "data": {
      "text/plain": [
       "DatetimeIndex(['2000-01-04', '2000-01-05', '2000-01-05', '2000-01-05',\n",
       "               '2000-01-06'],\n",
       "              dtype='datetime64[ns]', freq=None)"
      ]
     },
     "execution_count": 31,
     "metadata": {},
     "output_type": "execute_result"
    }
   ],
   "source": [
    "dates + Day(3)"
   ]
  },
  {
   "cell_type": "markdown",
   "metadata": {},
   "source": [
    "时间周期Periods"
   ]
  },
  {
   "cell_type": "code",
   "execution_count": 33,
   "metadata": {
    "scrolled": true
   },
   "outputs": [
    {
     "data": {
      "text/plain": [
       "2011Q3    0\n",
       "2011Q4    1\n",
       "2012Q1    2\n",
       "2012Q2    3\n",
       "2012Q3    4\n",
       "2012Q4    5\n",
       "Freq: Q-JAN, dtype: int32"
      ]
     },
     "execution_count": 33,
     "metadata": {},
     "output_type": "execute_result"
    }
   ],
   "source": [
    "rng = pd.period_range('2011Q3', '2012Q4', freq='Q-JAN')\n",
    "ts = pd.Series(np.arange(len(rng)), index=rng)\n",
    "ts"
   ]
  },
  {
   "cell_type": "markdown",
   "metadata": {},
   "source": [
    "重采样和频度转换"
   ]
  },
  {
   "cell_type": "markdown",
   "metadata": {},
   "source": [
    "可以按不同的频度转换数据，如按周、月、每5分钟等，需要考虑的细节也非常多，如开闭情况、周期选择（Q1从1月开始还是12月开始）、标签选择等。\n",
    "- 把一个高频度转换为低频度称为降采样，需要考虑聚合问题\n",
    "- 把一个低频度转换为高频度称为增采样，需要考虑插值问题"
   ]
  },
  {
   "cell_type": "code",
   "execution_count": 37,
   "metadata": {},
   "outputs": [
    {
     "data": {
      "text/plain": [
       "2000-01-01   -0.136372\n",
       "2000-01-02   -1.224098\n",
       "2000-01-03   -0.483691\n",
       "2000-01-04   -0.413888\n",
       "2000-01-05   -0.879009\n",
       "Freq: D, dtype: float64"
      ]
     },
     "execution_count": 37,
     "metadata": {},
     "output_type": "execute_result"
    }
   ],
   "source": [
    "longer_ts.head()"
   ]
  },
  {
   "cell_type": "code",
   "execution_count": 35,
   "metadata": {
    "scrolled": true
   },
   "outputs": [
    {
     "data": {
      "text/plain": [
       "2000-01     0.368187\n",
       "2000-02    -8.608103\n",
       "2000-03     9.213198\n",
       "2000-04     8.463272\n",
       "2000-05     9.582865\n",
       "2000-06     6.481925\n",
       "2000-07     2.052845\n",
       "2000-08    -7.446094\n",
       "2000-09    -8.158474\n",
       "2000-10    -0.350103\n",
       "2000-11     4.492100\n",
       "2000-12    -3.275870\n",
       "2001-01     3.848163\n",
       "2001-02    -7.147563\n",
       "2001-03    -8.117322\n",
       "2001-04     2.969164\n",
       "2001-05    -6.735116\n",
       "2001-06    -2.504536\n",
       "2001-07     6.987608\n",
       "2001-08     8.608651\n",
       "2001-09   -11.496576\n",
       "2001-10    -6.502134\n",
       "2001-11     9.201543\n",
       "2001-12     4.593383\n",
       "2002-01    13.781257\n",
       "2002-02     8.868120\n",
       "2002-03     6.306617\n",
       "2002-04    -2.578467\n",
       "2002-05     7.214143\n",
       "2002-06    -2.298400\n",
       "2002-07    10.638594\n",
       "2002-08    -1.214689\n",
       "2002-09     1.803768\n",
       "Freq: M, dtype: float64"
      ]
     },
     "execution_count": 35,
     "metadata": {},
     "output_type": "execute_result"
    }
   ],
   "source": [
    "longer_ts.resample('M', kind='period').sum()"
   ]
  },
  {
   "cell_type": "code",
   "execution_count": 36,
   "metadata": {},
   "outputs": [
    {
     "data": {
      "text/plain": [
       "2000Q1     0.973283\n",
       "2000Q2    24.528062\n",
       "2000Q3   -13.551722\n",
       "2000Q4     0.866128\n",
       "2001Q1   -11.416722\n",
       "2001Q2    -6.270488\n",
       "2001Q3     4.099683\n",
       "2001Q4     7.292792\n",
       "2002Q1    28.955994\n",
       "2002Q2     2.337277\n",
       "2002Q3    11.227673\n",
       "Freq: Q-DEC, dtype: float64"
      ]
     },
     "execution_count": 36,
     "metadata": {},
     "output_type": "execute_result"
    }
   ],
   "source": [
    "longer_ts.resample('Q-DEC', kind='period').sum()"
   ]
  },
  {
   "cell_type": "markdown",
   "metadata": {},
   "source": [
    "继续深入了解：\n",
    "\n",
    "一、《利用python进行数据分析》第十一章，时间序列\n",
    "\n",
    "二、pandas库官方文档\n",
    "\n",
    "三、下面三个notebook\n",
    "\n",
    "[日期范围，频度，位移](http://nbviewer.jupyter.org/github/LearnXu/pydata-notebook/blob/master/Chapter-11/11.3%20Date%20Ranges%2C%20Frequencies%2C%20and%20Shifting%EF%BC%88%E6%97%A5%E6%9C%9F%E8%8C%83%E5%9B%B4%EF%BC%8C%E9%A2%91%E5%BA%A6%EF%BC%8C%E5%92%8C%E4%BD%8D%E7%A7%BB%EF%BC%89.ipynb)\n",
    "\n",
    "[周期和周期运算](http://nbviewer.jupyter.org/github/LearnXu/pydata-notebook/blob/master/Chapter-11/11.5%20Periods%20and%20Period%20Arithmetic%EF%BC%88%E5%91%A8%E6%9C%9F%E5%92%8C%E5%91%A8%E6%9C%9F%E8%BF%90%E7%AE%97%EF%BC%89.ipynb)\n",
    "\n",
    "[重采样和频度转换](http://nbviewer.jupyter.org/github/LearnXu/pydata-notebook/blob/master/Chapter-11/11.6%20Resampling%20and%20Frequency%20Conversion%EF%BC%88%E9%87%8D%E9%87%87%E6%A0%B7%E5%92%8C%E9%A2%91%E5%BA%A6%E8%BD%AC%E6%8D%A2%EF%BC%89.ipynb)"
   ]
  }
 ],
 "metadata": {
  "kernelspec": {
   "display_name": "Python 3",
   "language": "python",
   "name": "python3"
  },
  "language_info": {
   "codemirror_mode": {
    "name": "ipython",
    "version": 3
   },
   "file_extension": ".py",
   "mimetype": "text/x-python",
   "name": "python",
   "nbconvert_exporter": "python",
   "pygments_lexer": "ipython3",
   "version": "3.6.1"
  }
 },
 "nbformat": 4,
 "nbformat_minor": 1
}
